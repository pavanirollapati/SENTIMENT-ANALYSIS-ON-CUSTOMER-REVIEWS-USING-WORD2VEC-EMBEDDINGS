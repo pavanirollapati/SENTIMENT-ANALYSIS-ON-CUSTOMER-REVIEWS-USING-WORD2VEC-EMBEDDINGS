{
  "nbformat": 4,
  "nbformat_minor": 0,
  "metadata": {
    "colab": {
      "provenance": []
    },
    "kernelspec": {
      "name": "python3",
      "display_name": "Python 3"
    },
    "language_info": {
      "name": "python"
    }
  },
  "cells": [
    {
      "cell_type": "code",
      "source": [
        "# CAPSTONE PROJECT -3"
      ],
      "metadata": {
        "id": "LMbV69S83Xfn"
      },
      "execution_count": null,
      "outputs": []
    },
    {
      "cell_type": "code",
      "source": [
        "# PROJECT TITLE: SENTIMENT ANALYSIS ON CUSTOMER REVIEWS USING WORD2VEC EMBEDDINGS"
      ],
      "metadata": {
        "id": "fQOynwSI3fRV"
      },
      "execution_count": null,
      "outputs": []
    },
    {
      "cell_type": "code",
      "source": [
        "# DELIVERABLES\n",
        "\n",
        "# 1.DATA PREPROCESSING REPORT\n",
        "# 2.WORD2VEC MODEL\n",
        "# 3.SENTIMENT CLASSIFIER\n",
        "# 4.EVALUATION METRICS\n",
        "# 5.VISUALIZATION\n",
        "# 6.PROJECT REPORT"
      ],
      "metadata": {
        "id": "xqHuQt0e4W58"
      },
      "execution_count": null,
      "outputs": []
    },
    {
      "cell_type": "code",
      "source": [
        "# 1. DATA PREPROCESSING REPORT"
      ],
      "metadata": {
        "id": "rAUssvBC7Y8Z"
      },
      "execution_count": null,
      "outputs": []
    },
    {
      "cell_type": "code",
      "source": [
        "# IMPORTING LIBRARIES"
      ],
      "metadata": {
        "id": "kdIIgEYh4jxR"
      },
      "execution_count": null,
      "outputs": []
    },
    {
      "cell_type": "code",
      "execution_count": 2,
      "metadata": {
        "colab": {
          "base_uri": "https://localhost:8080/"
        },
        "id": "IVVkkSgGia8a",
        "outputId": "f9ad7d2d-796b-4f47-af1a-dd44dd5584f9"
      },
      "outputs": [
        {
          "output_type": "stream",
          "name": "stderr",
          "text": [
            "[nltk_data] Downloading package stopwords to /root/nltk_data...\n",
            "[nltk_data]   Unzipping corpora/stopwords.zip.\n"
          ]
        }
      ],
      "source": [
        "# Import necessary libraries\n",
        "import pandas as pd  # For data manipulation and analysis\n",
        "import re  # For regular expressions\n",
        "import nltk  # For natural language processing tasks\n",
        "\n",
        "# Download NLTK resources (if not already downloaded)\n",
        "nltk.download('stopwords')\n",
        "\n",
        "# Additional imports for text processing\n",
        "from nltk.corpus import stopwords  # For removing stop words\n",
        "from nltk.stem import PorterStemmer  # For stemming words"
      ]
    },
    {
      "cell_type": "code",
      "source": [
        "# LOAD DATASET"
      ],
      "metadata": {
        "id": "zcxn5qTF7zH5"
      },
      "execution_count": null,
      "outputs": []
    },
    {
      "cell_type": "code",
      "source": [
        "import pandas as pd  # Importing pandas for data manipulation\n",
        "\n",
        "# Load the dataset\n",
        "data = pd.read_csv('hotel_reviews.csv')\n",
        "\n",
        "# Display the first few rows of the dataset\n",
        "print(data.head())"
      ],
      "metadata": {
        "colab": {
          "base_uri": "https://localhost:8080/"
        },
        "id": "F35LDVJ1lkXN",
        "outputId": "09ba7a5f-ebf1-40d1-b0bc-9f80e4dd1f61"
      },
      "execution_count": 3,
      "outputs": [
        {
          "output_type": "stream",
          "name": "stdout",
          "text": [
            "                                              Review  Rating\n",
            "0  nice hotel expensive parking got good deal sta...       4\n",
            "1  ok nothing special charge diamond member hilto...       2\n",
            "2  nice rooms not 4* experience hotel monaco seat...       3\n",
            "3  unique, great stay, wonderful time hotel monac...       5\n",
            "4  great stay great stay, went seahawk game aweso...       5\n"
          ]
        }
      ]
    },
    {
      "cell_type": "code",
      "source": [
        "# INITIALIZE STEMMER"
      ],
      "metadata": {
        "id": "YJbGtgdX74fs"
      },
      "execution_count": null,
      "outputs": []
    },
    {
      "cell_type": "code",
      "source": [
        "from nltk.stem import PorterStemmer  # Importing the PorterStemmer class from NLTK\n",
        "\n",
        "# Initialize the stemmer\n",
        "stemmer = PorterStemmer()"
      ],
      "metadata": {
        "id": "-ZefNEoGlzzO"
      },
      "execution_count": 4,
      "outputs": []
    },
    {
      "cell_type": "code",
      "source": [
        "# DEFINE CLEANING FUNCTION"
      ],
      "metadata": {
        "id": "1vumpgE18Bqv"
      },
      "execution_count": null,
      "outputs": []
    },
    {
      "cell_type": "code",
      "source": [
        "import re  # For regular expressions\n",
        "from nltk.corpus import stopwords  # For removing stop words\n",
        "from nltk.stem import PorterStemmer  # For stemming words\n",
        "\n",
        "# Initialize the stemmer\n",
        "stemmer = PorterStemmer()\n",
        "\n",
        "# Define the cleaning function\n",
        "def clean_text(text):\n",
        "    # Remove irrelevant characters (anything that is not a letter or space)\n",
        "    text = re.sub(r'[^a-zA-Z\\s]', '', text)\n",
        "\n",
        "    # Convert to lowercase\n",
        "    text = text.lower()\n",
        "\n",
        "    # Tokenization: Split the text into individual words\n",
        "    words = text.split()\n",
        "\n",
        "    # Remove stop words\n",
        "    words = [word for word in words if word not in stopwords.words('english')]\n",
        "\n",
        "    # Stemming: Reduce words to their root form\n",
        "    words = [stemmer.stem(word) for word in words]\n",
        "\n",
        "    # Join cleaned words back into a single string\n",
        "    return ' '.join(words)"
      ],
      "metadata": {
        "id": "7Er6cCJemCfl"
      },
      "execution_count": 5,
      "outputs": []
    },
    {
      "cell_type": "code",
      "source": [
        "# APPLY FUNCTION"
      ],
      "metadata": {
        "id": "VGTapbSp9U5u"
      },
      "execution_count": null,
      "outputs": []
    },
    {
      "cell_type": "code",
      "source": [
        "# Apply the cleaning function to the 'Review' column\n",
        "data['Cleaned_Review'] = data['Review'].apply(clean_text)\n",
        "\n",
        "# Display the first few rows of the updated DataFrame\n",
        "print(data[['Review', 'Cleaned_Review']].head())"
      ],
      "metadata": {
        "colab": {
          "base_uri": "https://localhost:8080/"
        },
        "id": "VcilAOF9mWNM",
        "outputId": "131a45c9-a694-4161-bcf5-50ba29c115c7"
      },
      "execution_count": 6,
      "outputs": [
        {
          "output_type": "stream",
          "name": "stdout",
          "text": [
            "                                              Review  \\\n",
            "0  nice hotel expensive parking got good deal sta...   \n",
            "1  ok nothing special charge diamond member hilto...   \n",
            "2  nice rooms not 4* experience hotel monaco seat...   \n",
            "3  unique, great stay, wonderful time hotel monac...   \n",
            "4  great stay great stay, went seahawk game aweso...   \n",
            "\n",
            "                                      Cleaned_Review  \n",
            "0  nice hotel expens park got good deal stay hote...  \n",
            "1  ok noth special charg diamond member hilton de...  \n",
            "2  nice room experi hotel monaco seattl good hote...  \n",
            "3  uniqu great stay wonder time hotel monaco loca...  \n",
            "4  great stay great stay went seahawk game awesom...  \n"
          ]
        }
      ]
    },
    {
      "cell_type": "code",
      "source": [
        "# DISPLAY RESULTS"
      ],
      "metadata": {
        "id": "CKGlGX919aDr"
      },
      "execution_count": null,
      "outputs": []
    },
    {
      "cell_type": "code",
      "source": [
        "# Display the first few rows of the original and cleaned reviews for comparison\n",
        "print(data[['Review', 'Cleaned_Review']].head())"
      ],
      "metadata": {
        "colab": {
          "base_uri": "https://localhost:8080/"
        },
        "id": "tWVY3Dpgnvxl",
        "outputId": "eee6f743-c961-4b82-a955-ec195ecb5914"
      },
      "execution_count": 7,
      "outputs": [
        {
          "output_type": "stream",
          "name": "stdout",
          "text": [
            "                                              Review  \\\n",
            "0  nice hotel expensive parking got good deal sta...   \n",
            "1  ok nothing special charge diamond member hilto...   \n",
            "2  nice rooms not 4* experience hotel monaco seat...   \n",
            "3  unique, great stay, wonderful time hotel monac...   \n",
            "4  great stay great stay, went seahawk game aweso...   \n",
            "\n",
            "                                      Cleaned_Review  \n",
            "0  nice hotel expens park got good deal stay hote...  \n",
            "1  ok noth special charg diamond member hilton de...  \n",
            "2  nice room experi hotel monaco seattl good hote...  \n",
            "3  uniqu great stay wonder time hotel monaco loca...  \n",
            "4  great stay great stay went seahawk game awesom...  \n"
          ]
        }
      ]
    },
    {
      "cell_type": "code",
      "source": [],
      "metadata": {
        "id": "TfEvCbGj9euQ"
      },
      "execution_count": null,
      "outputs": []
    },
    {
      "cell_type": "code",
      "source": [
        "# 2.TEXT PREPROCESSING"
      ],
      "metadata": {
        "id": "09aAlD0sogPe"
      },
      "execution_count": null,
      "outputs": []
    },
    {
      "cell_type": "code",
      "source": [
        "from sklearn.feature_extraction.text import CountVectorizer  # For tokenization and vectorization\n",
        "\n",
        "# Initialize the CountVectorizer\n",
        "vectorizer = CountVectorizer()\n",
        "\n",
        "# Tokenization and vectorization of the 'Cleaned_Review' column\n",
        "X = vectorizer.fit_transform(data['Cleaned_Review'])\n",
        "\n",
        "# Convert the sparse matrix to an array for inspection (optional)\n",
        "X_array = X.toarray()\n",
        "\n",
        "# Display the feature names and the first few rows of the vectorized data\n",
        "print(\"Feature Names:\", vectorizer.get_feature_names_out())\n",
        "print(\"Vectorized Data (First 5 Rows):\")\n",
        "print(X_array[:5])"
      ],
      "metadata": {
        "colab": {
          "base_uri": "https://localhost:8080/"
        },
        "id": "J3KnwG0_oggU",
        "outputId": "9fe48770-47a3-49eb-a33b-e051e7c74ac6"
      },
      "execution_count": 8,
      "outputs": [
        {
          "output_type": "stream",
          "name": "stdout",
          "text": [
            "Feature Names: ['aa' 'aaa' 'aaaa' ... 'zzzzt' 'zzzzz' 'zzzzzzzzz']\n",
            "Vectorized Data (First 5 Rows):\n",
            "[[0 0 0 ... 0 0 0]\n",
            " [0 0 0 ... 0 0 0]\n",
            " [0 0 0 ... 0 0 0]\n",
            " [0 0 0 ... 0 0 0]\n",
            " [0 0 0 ... 0 0 0]]\n"
          ]
        }
      ]
    },
    {
      "cell_type": "code",
      "source": [],
      "metadata": {
        "id": "VhsTbNKV99z3"
      },
      "execution_count": null,
      "outputs": []
    },
    {
      "cell_type": "code",
      "source": [
        "#3.WORD2VEC MODEL"
      ],
      "metadata": {
        "id": "bp44YNgMooac"
      },
      "execution_count": null,
      "outputs": []
    },
    {
      "cell_type": "code",
      "source": [
        "from gensim.models import Word2Vec  # Importing Word2Vec from Gensim\n",
        "\n",
        "# Prepare the data for Word2Vec by tokenizing the cleaned reviews\n",
        "tokenized_reviews = [review.split() for review in data['Cleaned_Review']]\n",
        "\n",
        "# Training the Word2Vec model\n",
        "word2vec_model = Word2Vec(sentences=tokenized_reviews, vector_size=100, window=5, min_count=1, workers=4)\n",
        "\n",
        "# Save the model for future use\n",
        "word2vec_model.save(\"word2vec_model.model\")\n",
        "\n"
      ],
      "metadata": {
        "id": "45oleSxyoo0M"
      },
      "execution_count": 9,
      "outputs": []
    },
    {
      "cell_type": "code",
      "source": [],
      "metadata": {
        "id": "saE1Q25_-Z6I"
      },
      "execution_count": null,
      "outputs": []
    },
    {
      "cell_type": "code",
      "source": [
        "# 4.SENTIMENT CLASSIFIER"
      ],
      "metadata": {
        "id": "PJYjHLT3pUMG"
      },
      "execution_count": null,
      "outputs": []
    },
    {
      "cell_type": "code",
      "source": [
        "from sklearn.model_selection import train_test_split  # For splitting the dataset\n",
        "from sklearn.linear_model import LogisticRegression  # For logistic regression model\n",
        "from sklearn.metrics import classification_report, accuracy_score  # For evaluation metrics\n",
        "\n",
        "# Prepare the labels for sentiment classification (assuming ratings are on a scale of 1 to 5)\n",
        "data['Sentiment'] = data['Rating'].apply(lambda x: 1 if x < 3 else (0 if x == 3 else 1))  # Binary classification: 0 = negative, 1 = positive\n",
        "\n",
        "# Split the dataset into features (X) and labels (y)\n",
        "X = vectorizer.transform(data['Cleaned_Review'])  # Use the vectorized cleaned reviews\n",
        "y = data['Sentiment']  # Sentiment labels\n",
        "\n",
        "# Split the data into training and testing sets\n",
        "X_train, X_test, y_train, y_test = train_test_split(X, y, test_size=0.2, random_state=42)\n",
        "\n",
        "# Initialize and train the logistic regression model\n",
        "classifier = LogisticRegression()\n",
        "classifier.fit(X_train, y_train)\n",
        "\n",
        "# Make predictions on the test set\n",
        "y_pred = classifier.predict(X_test)\n",
        "\n",
        "# Evaluate the model's performance\n",
        "print(\"Accuracy:\", accuracy_score(y_test, y_pred))\n",
        "print(\"Classification Report:\\n\", classification_report(y_test, y_pred))"
      ],
      "metadata": {
        "colab": {
          "base_uri": "https://localhost:8080/"
        },
        "id": "sueEN4oupr0d",
        "outputId": "6adcf531-34b7-4bf5-dbb0-106e4c6cecd6"
      },
      "execution_count": 10,
      "outputs": [
        {
          "output_type": "stream",
          "name": "stdout",
          "text": [
            "Accuracy: 0.8675286655281776\n",
            "Classification Report:\n",
            "               precision    recall  f1-score   support\n",
            "\n",
            "           0       0.31      0.21      0.25       432\n",
            "           1       0.91      0.95      0.93      3667\n",
            "\n",
            "    accuracy                           0.87      4099\n",
            "   macro avg       0.61      0.58      0.59      4099\n",
            "weighted avg       0.85      0.87      0.86      4099\n",
            "\n"
          ]
        },
        {
          "output_type": "stream",
          "name": "stderr",
          "text": [
            "/usr/local/lib/python3.10/dist-packages/sklearn/linear_model/_logistic.py:469: ConvergenceWarning: lbfgs failed to converge (status=1):\n",
            "STOP: TOTAL NO. of ITERATIONS REACHED LIMIT.\n",
            "\n",
            "Increase the number of iterations (max_iter) or scale the data as shown in:\n",
            "    https://scikit-learn.org/stable/modules/preprocessing.html\n",
            "Please also refer to the documentation for alternative solver options:\n",
            "    https://scikit-learn.org/stable/modules/linear_model.html#logistic-regression\n",
            "  n_iter_i = _check_optimize_result(\n"
          ]
        }
      ]
    },
    {
      "cell_type": "code",
      "source": [],
      "metadata": {
        "id": "S5-VXOnD-uv7"
      },
      "execution_count": null,
      "outputs": []
    },
    {
      "cell_type": "code",
      "source": [
        "# 5.EVALUATION METRICS"
      ],
      "metadata": {
        "id": "uavo-ypjpxDE"
      },
      "execution_count": null,
      "outputs": []
    },
    {
      "cell_type": "code",
      "source": [
        "from sklearn.metrics import accuracy_score, precision_score, recall_score, f1_score  # Import evaluation metrics\n",
        "\n",
        "# Evaluate the model's performance\n",
        "accuracy = accuracy_score(y_test, y_pred)\n",
        "precision = precision_score(y_test, y_pred)\n",
        "recall = recall_score(y_test, y_pred)\n",
        "f1 = f1_score(y_test, y_pred)\n",
        "\n",
        "# Print the evaluation metrics\n",
        "print(\"Evaluation Metrics:\")\n",
        "print(f\"Accuracy: {accuracy:.2f}\")\n",
        "print(f\"Precision: {precision:.2f}\")\n",
        "print(f\"Recall: {recall:.2f}\")\n",
        "print(f\"F1 Score: {f1:.2f}\")"
      ],
      "metadata": {
        "colab": {
          "base_uri": "https://localhost:8080/"
        },
        "id": "olLH10vIpz9U",
        "outputId": "aae1d3f7-9314-4a27-929e-4013ab9afcde"
      },
      "execution_count": 11,
      "outputs": [
        {
          "output_type": "stream",
          "name": "stdout",
          "text": [
            "Evaluation Metrics:\n",
            "Accuracy: 0.87\n",
            "Precision: 0.91\n",
            "Recall: 0.95\n",
            "F1 Score: 0.93\n"
          ]
        }
      ]
    },
    {
      "cell_type": "code",
      "source": [],
      "metadata": {
        "id": "5pSpvSwkhnG9"
      },
      "execution_count": null,
      "outputs": []
    },
    {
      "cell_type": "code",
      "source": [
        "# 6.VISUALIZATION"
      ],
      "metadata": {
        "id": "lMkQRKY9qNzt"
      },
      "execution_count": null,
      "outputs": []
    },
    {
      "cell_type": "code",
      "source": [
        "# IMPORTING LIBRARIES"
      ],
      "metadata": {
        "id": "oitRDuJOrLFW"
      },
      "execution_count": null,
      "outputs": []
    },
    {
      "cell_type": "code",
      "source": [
        "import matplotlib.pyplot as plt  # For basic plotting\n",
        "import seaborn as sns  # For enhanced visualizations\n",
        "\n",
        "# Set the style for seaborn\n",
        "sns.set(style=\"whitegrid\")"
      ],
      "metadata": {
        "id": "IGdWYhVdrZoM"
      },
      "execution_count": 12,
      "outputs": []
    },
    {
      "cell_type": "code",
      "source": [
        "# SETTING SEABORN STYLE"
      ],
      "metadata": {
        "id": "qdsikT9V_KPJ"
      },
      "execution_count": null,
      "outputs": []
    },
    {
      "cell_type": "code",
      "source": [
        "# Setting Seaborn Style for Better Aesthetics in Plots\n",
        "import seaborn as sns  # Importing seaborn for enhanced visualizations\n",
        "\n",
        "# Set the style for seaborn\n",
        "sns.set(style=\"whitegrid\")"
      ],
      "metadata": {
        "id": "rrKWOHgMrbbk"
      },
      "execution_count": 13,
      "outputs": []
    },
    {
      "cell_type": "code",
      "source": [
        "# COUNTING SENTIMENTS"
      ],
      "metadata": {
        "id": "DIBr6rJ5_QWF"
      },
      "execution_count": null,
      "outputs": []
    },
    {
      "cell_type": "code",
      "source": [
        "# Counting Sentiments: The number of reviews for each sentiment category\n",
        "sentiment_counts = data['Sentiment'].value_counts()\n",
        "\n",
        "# Display the counts of each sentiment category\n",
        "print(\"Sentiment Counts:\")\n",
        "print(sentiment_counts)"
      ],
      "metadata": {
        "colab": {
          "base_uri": "https://localhost:8080/"
        },
        "id": "AmTT_nbRrtpG",
        "outputId": "009a5b05-c6f7-4877-ae84-dea0a27ec460"
      },
      "execution_count": 14,
      "outputs": [
        {
          "output_type": "stream",
          "name": "stdout",
          "text": [
            "Sentiment Counts:\n",
            "Sentiment\n",
            "1    18307\n",
            "0     2184\n",
            "Name: count, dtype: int64\n"
          ]
        }
      ]
    },
    {
      "cell_type": "code",
      "source": [
        "# BAR PLOT FOR SENTIMENT DISTRIBUTION"
      ],
      "metadata": {
        "id": "aozI_nfG_dMs"
      },
      "execution_count": null,
      "outputs": []
    },
    {
      "cell_type": "code",
      "source": [
        "import matplotlib.pyplot as plt  # For basic plotting\n",
        "import seaborn as sns  # For enhanced visualizations\n",
        "\n",
        "# Set the style for seaborn\n",
        "sns.set(style=\"whitegrid\")\n",
        "\n",
        "# Counting Sentiments: The number of reviews for each sentiment category\n",
        "sentiment_counts = data['Sentiment'].value_counts()\n",
        "\n",
        "# Create a bar plot for sentiment distribution\n",
        "plt.figure(figsize=(8, 6))\n",
        "sns.barplot(x=sentiment_counts.index, y=sentiment_counts.values, palette='viridis')\n",
        "plt.title('Sentiment Distribution of Customer Reviews')\n",
        "plt.xlabel('Sentiment (0 = Negative, 1 = Positive)')\n",
        "plt.ylabel('Number of Reviews')\n",
        "plt.xticks(ticks=[0, 1], labels=['Negative', 'Positive'])\n",
        "plt.show()"
      ],
      "metadata": {
        "colab": {
          "base_uri": "https://localhost:8080/",
          "height": 680
        },
        "id": "74N0Fp6hsKA0",
        "outputId": "35b2492a-ecdd-42f1-c80e-9cf5dbd71445"
      },
      "execution_count": 15,
      "outputs": [
        {
          "output_type": "stream",
          "name": "stderr",
          "text": [
            "<ipython-input-15-109ecd23b784>:12: FutureWarning: \n",
            "\n",
            "Passing `palette` without assigning `hue` is deprecated and will be removed in v0.14.0. Assign the `x` variable to `hue` and set `legend=False` for the same effect.\n",
            "\n",
            "  sns.barplot(x=sentiment_counts.index, y=sentiment_counts.values, palette='viridis')\n"
          ]
        },
        {
          "output_type": "display_data",
          "data": {
            "text/plain": [
              "<Figure size 800x600 with 1 Axes>"
            ],
            "image/png": "[encoded data removed]"
          },
          "metadata": {}
        }
      ]
    },
    {
      "cell_type": "code",
      "source": [
        "# CALCULATING AVERAGE RATINGS"
      ],
      "metadata": {
        "id": "WTqGoO3V_rMh"
      },
      "execution_count": null,
      "outputs": []
    },
    {
      "cell_type": "code",
      "source": [
        "# Calculating Average Ratings: The average rating is calculated for each sentiment category using groupby()\n",
        "average_rating = data.groupby('Sentiment')['Rating'].mean()\n",
        "\n",
        "# Display the average ratings for each sentiment category\n",
        "print(\"Average Ratings by Sentiment:\")\n",
        "print(average_rating)"
      ],
      "metadata": {
        "colab": {
          "base_uri": "https://localhost:8080/"
        },
        "id": "piWO3Hw5sbdc",
        "outputId": "9541a625-e72e-4f2e-e227-2576c26bf250"
      },
      "execution_count": 16,
      "outputs": [
        {
          "output_type": "stream",
          "name": "stdout",
          "text": [
            "Average Ratings by Sentiment:\n",
            "Sentiment\n",
            "0    3.000000\n",
            "1    4.065822\n",
            "Name: Rating, dtype: float64\n"
          ]
        }
      ]
    },
    {
      "cell_type": "code",
      "source": [
        "# BAR PLOT FOR AVERAGE RATINGS"
      ],
      "metadata": {
        "id": "bkSzTmnY_86e"
      },
      "execution_count": null,
      "outputs": []
    },
    {
      "cell_type": "code",
      "source": [
        "# Bar Plot for Average Ratings: Visualizing the average rating corresponding to each sentiment category\n",
        "plt.figure(figsize=(8, 6))\n",
        "sns.barplot(x=average_rating.index, y=average_rating.values, palette='coolwarm')\n",
        "plt.title('Average Rating by Sentiment')\n",
        "plt.xlabel('Sentiment (0 = Negative, 1 = Positive)')\n",
        "plt.ylabel('Average Rating')\n",
        "plt.xticks(ticks=[0, 1], labels=['Negative', 'Positive'])\n",
        "plt.show()"
      ],
      "metadata": {
        "colab": {
          "base_uri": "https://localhost:8080/",
          "height": 680
        },
        "id": "-JdsOe1hssss",
        "outputId": "23aff834-9ff7-4596-9a33-486945ff030d"
      },
      "execution_count": 17,
      "outputs": [
        {
          "output_type": "stream",
          "name": "stderr",
          "text": [
            "<ipython-input-17-07af44132577>:3: FutureWarning: \n",
            "\n",
            "Passing `palette` without assigning `hue` is deprecated and will be removed in v0.14.0. Assign the `x` variable to `hue` and set `legend=False` for the same effect.\n",
            "\n",
            "  sns.barplot(x=average_rating.index, y=average_rating.values, palette='coolwarm')\n"
          ]
        },
        {
          "output_type": "display_data",
          "data": {
            "text/plain": [
              "<Figure size 800x600 with 1 Axes>"
            ],
            "image/png": "[encoded data removed]"
          },
          "metadata": {}
        }
      ]
    },
    {
      "cell_type": "code",
      "source": [
        "# 7.PROJECT REPORT:"
      ],
      "metadata": {
        "id": "WL-gtKi6tF2M"
      },
      "execution_count": null,
      "outputs": []
    },
    {
      "cell_type": "code",
      "source": [
        "# Introduction\n",
        "\n",
        "# This project aims to analyze customer reviews of a hotel using sentiment analysis techniques,\n",
        "# specifically leveraging Word2Vec embeddings for feature extraction. The goal is to understand\n",
        "# customer satisfaction and identify areas for improvement in service quality.\n",
        "\n",
        "# Methodology\n",
        "\n",
        "# Dataset\n",
        "\n",
        "# The dataset consists of customer reviews and ratings from a hotel, structured in a CSV format with\n",
        "# two key columns:\n",
        "# Review: Textual feedback from customers.\n",
        "# Rating: A numerical score ranging from 1 (poor) to 5 (excellent).\n",
        "\n",
        "# Data Cleaning\n",
        "# The data cleaning process involved several steps:\n",
        "# Removing Irrelevant Characters: Non-alphabetic characters were stripped from the reviews.\n",
        "# Lowercasing: All text was converted to lowercase for uniformity.\n",
        "# Tokenization: The cleaned text was split into individual words.\n",
        "# Stop Words Removal: Common stop words were filtered out to focus on meaningful words.\n",
        "# Stemming: Words were reduced to their root forms using the Porter Stemmer.\n",
        "\n",
        "# Word2Vec Model Training\n",
        "# A Word2Vec model was trained on the cleaned reviews to generate word embeddings that capture semantic\n",
        "# meanings. Key parameters included:\n",
        "# Vector Size: 100 dimensions for each word vector.\n",
        "# Window Size: Context window of 5 words.\n",
        "# Minimum Count: 1, ensuring all words were included in the vocabulary.\n",
        "\n",
        "# Sentiment Classification\n",
        "# A sentiment classifier was developed using logistic regression:\n",
        "# Label Preparation: Reviews were categorized into positive (1) and negative (0) sentiments based on\n",
        "# their ratings.\n",
        "# Train-Test Split: The dataset was divided into training (80%) and testing (20%) sets.\n",
        "# Model Training: The logistic regression model was trained on the training set.\n",
        "# Predictions: Predictions were made on the test set to evaluate performance.\n",
        "\n",
        "# Results\n",
        "\n",
        "# Evaluation Metrics\n",
        "# The model's performance was assessed using various metrics:\n",
        "# Accuracy: Proportion of correct predictions.\n",
        "# Precision: Ratio of true positive predictions to all positive predictions.\n",
        "# Recall: Ratio of true positive predictions to all actual positives.\n",
        "# F1 Score: Harmonic mean of precision and recall.\n",
        "\n",
        "# Visualizations\n",
        "# Key findings were illustrated through visualizations:\n",
        "# Sentiment Distribution: A bar plot showed the distribution of sentiments among customer reviews,\n",
        "# indicating a predominance of positive sentiments.\n",
        "# Average Ratings by Sentiment: Another bar plot depicted average ratings associated with each\n",
        "# sentiment category, reinforcing the effectiveness of sentiment classification.\n",
        "\n",
        "# Findings and Insights\n",
        "# The sentiment analysis revealed that a significant portion of reviews were positive, indicating\n",
        "# overall customer satisfaction with the hotel services.\n",
        "# Average ratings aligned closely with sentiment classifications, reinforcing the effectiveness of the\n",
        "# sentiment analysis approach.\n",
        "\n",
        "# Challenges Faced\n",
        "# Data Quality: Some reviews contained noise and inconsistencies, which required extensive cleaning.\n",
        "# Model Complexity: Choosing appropriate parameters for the Word2Vec model and logistic regression\n",
        "# posed challenges in achieving optimal performance.\n",
        "\n",
        "# Conclusion\n",
        "# This project successfully demonstrated how Word2Vec embeddings can be utilized for sentiment analysis\n",
        "# on customer reviews. The findings provide valuable insights into customer perceptions and can guide\n",
        "# improvements in service quality and overall customer experience in the hospitality industry.\n"
      ],
      "metadata": {
        "id": "XUfNXGncBKCW"
      },
      "execution_count": null,
      "outputs": []
    }
  ]
}